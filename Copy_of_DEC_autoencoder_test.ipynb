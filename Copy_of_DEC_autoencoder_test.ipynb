{
 "cells": [
  {
   "cell_type": "code",
   "execution_count": 1,
   "metadata": {
    "colab": {
     "base_uri": "https://localhost:8080/",
     "height": 68
    },
    "colab_type": "code",
    "id": "svO8F_9MRerU",
    "outputId": "062936ac-3516-4022-eaf9-31736ab741a6"
   },
   "outputs": [
    {
     "name": "stderr",
     "output_type": "stream",
     "text": [
      "Using TensorFlow backend.\n"
     ]
    }
   ],
   "source": [
    "from keras.datasets import mnist\n",
    "import numpy as np\n",
    "(x_train, _), (x_test, _) = mnist.load_data()"
   ]
  },
  {
   "cell_type": "code",
   "execution_count": 2,
   "metadata": {
    "colab": {
     "base_uri": "https://localhost:8080/",
     "height": 51
    },
    "colab_type": "code",
    "id": "dfg69_VfbXuf",
    "outputId": "77df6ec1-1309-441e-f4da-0663b1e04d2c"
   },
   "outputs": [
    {
     "name": "stdout",
     "output_type": "stream",
     "text": [
      "(60000, 784)\n",
      "(10000, 784)\n"
     ]
    }
   ],
   "source": [
    "x"
   ]
  },
  {
   "cell_type": "code",
   "execution_count": 3,
   "metadata": {
    "colab": {},
    "colab_type": "code",
    "id": "RDPZZ3uQRtsO"
   },
   "outputs": [],
   "source": [
    "from keras.layers import Input, Dense, Dropout\n",
    "from keras.models import Model"
   ]
  },
  {
   "cell_type": "code",
   "execution_count": 4,
   "metadata": {},
   "outputs": [
    {
     "name": "stdout",
     "output_type": "stream",
     "text": [
      "Collecting package metadata: done\n",
      "Solving environment: done\n",
      "\n",
      "# All requested packages already installed.\n",
      "\n"
     ]
    }
   ],
   "source": [
    "!conda install keras"
   ]
  },
  {
   "cell_type": "code",
   "execution_count": 4,
   "metadata": {
    "colab": {},
    "colab_type": "code",
    "id": "QOcE_HzaR0MF"
   },
   "outputs": [],
   "source": [
    "original_dim = 28*28\n",
    "hidden_dim_1 = 500\n",
    "hidden_dim_2 = 500\n",
    "hidden_dim_3 = 2000\n",
    "encoded_dim = 10\n",
    "dimentions = [original_dim, hidden_dim_1, hidden_dim_2, hidden_dim_3, encoded_dim]\n",
    "n_layers = 4"
   ]
  },
  {
   "cell_type": "code",
   "execution_count": 6,
   "metadata": {
    "colab": {},
    "colab_type": "code",
    "id": "PnPNtJAsd2Tn"
   },
   "outputs": [],
   "source": [
    "def get_layer_autoencoder(input_dim, output_dim):\n",
    "  \"\"\"\n",
    "  This function generates autoencoder layer \n",
    "  with specified input and output dimentions\n",
    "  return:3 models:  autoencoder, encoder and decoder\n",
    "  \"\"\"\n",
    "  input_ = Input(shape=(input_dim,))\n",
    "  encoder_dropout = Dropout(0.2)(input_)\n",
    "  if output_dim == encoded_dim:\n",
    "    encoder_dense = Dense(output_dim, activation='linear')(encoder_dropout)\n",
    "  else:\n",
    "    encoder_dense = Dense(output_dim, activation='relu')(encoder_dropout)\n",
    "  encoded_input = Input(shape=(output_dim,))\n",
    "\n",
    "  decoder_dropout = Dropout(0.2)(encoder_dense)\n",
    "  if output_dim == original_dim:\n",
    "    decoder_dense = Dense(input_dim, activation='linear')(decoder_dropout)\n",
    "  else:\n",
    "    decoder_dense = Dense(input_dim, activation='relu')(decoder_dropout)\n",
    "\n",
    "  autoencoder = Model(input_, decoder_dense)\n",
    " \n",
    "  decoder_dense_layer = autoencoder.layers[-1]\n",
    "  decoder_dropout_layer = autoencoder.layers[-2]\n",
    "\n",
    "\n",
    "  #create encoder and decoder\n",
    "  encoder = Model(input_, encoder_dense)\n",
    "  decoder = Model(encoded_input, decoder_dense_layer(decoder_dropout_layer\n",
    "                                                     (encoded_input)))\n",
    "  autoencoder.compile(loss='mean_squared_error', optimizer='adam')\n",
    "  return autoencoder, encoder, decoder"
   ]
  },
  {
   "cell_type": "code",
   "execution_count": 7,
   "metadata": {
    "colab": {},
    "colab_type": "code",
    "id": "pjp94j4nB6-S"
   },
   "outputs": [],
   "source": [
    "def train_autoencoder_layers_separately():\n",
    "  autoencoders = []\n",
    "  encoders = []\n",
    "  decoders = []\n",
    "  inputs_test = [x_test]\n",
    "  inputs_train = [x_train]\n",
    "  input_i_test = x_test\n",
    "  input_i_train = x_train\n",
    "  for i in range(n_layers):\n",
    "    autoencoder, encoder, decoder = get_layer_autoencoder(dimentions[i], dimentions[i+1])\n",
    "    print(f'<========================================{i + 1} autoencoder layer generated========================================>')\n",
    "\n",
    "    autoencoder.fit(inputs_train[i], inputs_train[i],\n",
    "                     epochs=50,\n",
    "                     batch_size=256,\n",
    "                     validation_data=(inputs_test[i], inputs_test[i]))\n",
    "    print(f'<========================================{i + 1} autoencoder layer trained========================================>')\n",
    "    autoencoders.append(autoencoder)\n",
    "    encoders.append(encoder)\n",
    "    decoders.append(decoder)\n",
    "    inputs_train.append(encoder.predict(inputs_train[i]))\n",
    "    inputs_test.append(encoder.predict(inputs_test[i]))\n",
    "  return autoencoders, encoders, decoders"
   ]
  },
  {
   "cell_type": "code",
   "execution_count": 8,
   "metadata": {
    "colab": {
     "base_uri": "https://localhost:8080/",
     "height": 7194
    },
    "colab_type": "code",
    "id": "LKHXZW12B62P",
    "outputId": "1827d8d2-d9d9-4017-e3fd-d07bafa4d393"
   },
   "outputs": [
    {
     "name": "stdout",
     "output_type": "stream",
     "text": [
      "<========================================1 autoencoder layer generated========================================>\n",
      "Train on 60000 samples, validate on 10000 samples\n",
      "Epoch 1/50\n",
      "60000/60000 [==============================] - 7s 120us/step - loss: 0.0274 - val_loss: 0.0105\n",
      "Epoch 2/50\n",
      "60000/60000 [==============================] - 7s 110us/step - loss: 0.0150 - val_loss: 0.0087\n",
      "Epoch 3/50\n",
      "60000/60000 [==============================] - 8s 127us/step - loss: 0.0132 - val_loss: 0.0076\n",
      "Epoch 4/50\n",
      "60000/60000 [==============================] - 7s 122us/step - loss: 0.0120 - val_loss: 0.0069\n",
      "Epoch 5/50\n",
      "60000/60000 [==============================] - 7s 116us/step - loss: 0.0111 - val_loss: 0.0064\n",
      "Epoch 6/50\n",
      "60000/60000 [==============================] - 7s 117us/step - loss: 0.0105 - val_loss: 0.0061\n",
      "Epoch 7/50\n",
      "60000/60000 [==============================] - 7s 117us/step - loss: 0.0100 - val_loss: 0.0058\n",
      "Epoch 8/50\n",
      "60000/60000 [==============================] - 7s 116us/step - loss: 0.0097 - val_loss: 0.0056\n",
      "Epoch 9/50\n",
      "60000/60000 [==============================] - 7s 121us/step - loss: 0.0093 - val_loss: 0.0054\n",
      "Epoch 10/50\n",
      "60000/60000 [==============================] - 7s 118us/step - loss: 0.0091 - val_loss: 0.0052\n",
      "Epoch 11/50\n",
      "60000/60000 [==============================] - 7s 112us/step - loss: 0.0089 - val_loss: 0.0051\n",
      "Epoch 12/50\n",
      "60000/60000 [==============================] - 7s 115us/step - loss: 0.0087 - val_loss: 0.0052\n",
      "Epoch 13/50\n",
      "60000/60000 [==============================] - 7s 112us/step - loss: 0.0086 - val_loss: 0.0049\n",
      "Epoch 14/50\n",
      "60000/60000 [==============================] - 7s 114us/step - loss: 0.0085 - val_loss: 0.0049\n",
      "Epoch 15/50\n",
      "60000/60000 [==============================] - 7s 111us/step - loss: 0.0084 - val_loss: 0.0049\n",
      "Epoch 16/50\n",
      "60000/60000 [==============================] - 7s 113us/step - loss: 0.0083 - val_loss: 0.0049\n",
      "Epoch 17/50\n",
      "60000/60000 [==============================] - 7s 110us/step - loss: 0.0082 - val_loss: 0.0048\n",
      "Epoch 18/50\n",
      "60000/60000 [==============================] - 7s 110us/step - loss: 0.0082 - val_loss: 0.0047\n",
      "Epoch 19/50\n",
      "60000/60000 [==============================] - 7s 110us/step - loss: 0.0081 - val_loss: 0.0047\n",
      "Epoch 20/50\n",
      "60000/60000 [==============================] - 7s 109us/step - loss: 0.0081 - val_loss: 0.0047\n",
      "Epoch 21/50\n",
      "60000/60000 [==============================] - 7s 121us/step - loss: 0.0080 - val_loss: 0.0049\n",
      "Epoch 22/50\n",
      "60000/60000 [==============================] - 8s 128us/step - loss: 0.0080 - val_loss: 0.0047\n",
      "Epoch 23/50\n",
      "60000/60000 [==============================] - 7s 116us/step - loss: 0.0079 - val_loss: 0.0047\n",
      "Epoch 24/50\n",
      "60000/60000 [==============================] - 8s 127us/step - loss: 0.0079 - val_loss: 0.0046\n",
      "Epoch 25/50\n",
      "60000/60000 [==============================] - 7s 120us/step - loss: 0.0079 - val_loss: 0.0046\n",
      "Epoch 26/50\n",
      "60000/60000 [==============================] - 7s 120us/step - loss: 0.0078 - val_loss: 0.0046\n",
      "Epoch 27/50\n",
      "60000/60000 [==============================] - 7s 115us/step - loss: 0.0078 - val_loss: 0.0046\n",
      "Epoch 28/50\n",
      "60000/60000 [==============================] - 7s 113us/step - loss: 0.0078 - val_loss: 0.0046\n",
      "Epoch 29/50\n",
      "60000/60000 [==============================] - 7s 117us/step - loss: 0.0078 - val_loss: 0.0046\n",
      "Epoch 30/50\n",
      "60000/60000 [==============================] - 7s 114us/step - loss: 0.0077 - val_loss: 0.0046\n",
      "Epoch 31/50\n",
      "60000/60000 [==============================] - 7s 114us/step - loss: 0.0077 - val_loss: 0.0046\n",
      "Epoch 32/50\n",
      "60000/60000 [==============================] - 7s 111us/step - loss: 0.0077 - val_loss: 0.0045\n",
      "Epoch 33/50\n",
      "60000/60000 [==============================] - 7s 115us/step - loss: 0.0077 - val_loss: 0.0045\n",
      "Epoch 34/50\n",
      "60000/60000 [==============================] - 7s 114us/step - loss: 0.0076 - val_loss: 0.0045\n",
      "Epoch 35/50\n",
      "60000/60000 [==============================] - 7s 115us/step - loss: 0.0076 - val_loss: 0.0045\n",
      "Epoch 36/50\n",
      "60000/60000 [==============================] - 7s 112us/step - loss: 0.0076 - val_loss: 0.0046\n",
      "Epoch 37/50\n",
      "60000/60000 [==============================] - 7s 113us/step - loss: 0.0076 - val_loss: 0.0045\n",
      "Epoch 38/50\n",
      "60000/60000 [==============================] - 7s 122us/step - loss: 0.0076 - val_loss: 0.0045\n",
      "Epoch 39/50\n",
      "60000/60000 [==============================] - 7s 121us/step - loss: 0.0076 - val_loss: 0.0045\n",
      "Epoch 40/50\n",
      "60000/60000 [==============================] - 7s 114us/step - loss: 0.0075 - val_loss: 0.0045\n",
      "Epoch 41/50\n",
      "60000/60000 [==============================] - 7s 114us/step - loss: 0.0075 - val_loss: 0.0045\n",
      "Epoch 42/50\n",
      "60000/60000 [==============================] - 7s 116us/step - loss: 0.0075 - val_loss: 0.0045\n",
      "Epoch 43/50\n",
      "60000/60000 [==============================] - 7s 118us/step - loss: 0.0075 - val_loss: 0.0044\n",
      "Epoch 44/50\n",
      "60000/60000 [==============================] - 7s 115us/step - loss: 0.0075 - val_loss: 0.0044\n",
      "Epoch 45/50\n",
      "60000/60000 [==============================] - 7s 116us/step - loss: 0.0075 - val_loss: 0.0044\n",
      "Epoch 46/50\n",
      "60000/60000 [==============================] - 7s 110us/step - loss: 0.0075 - val_loss: 0.0044\n",
      "Epoch 47/50\n",
      "60000/60000 [==============================] - 7s 123us/step - loss: 0.0075 - val_loss: 0.0044\n",
      "Epoch 48/50\n",
      "60000/60000 [==============================] - 6s 108us/step - loss: 0.0074 - val_loss: 0.0044\n",
      "Epoch 49/50\n",
      "60000/60000 [==============================] - 6s 106us/step - loss: 0.0074 - val_loss: 0.0044\n",
      "Epoch 50/50\n",
      "60000/60000 [==============================] - 7s 112us/step - loss: 0.0074 - val_loss: 0.0044\n",
      "<========================================1 autoencoder layer trained========================================>\n",
      "<========================================2 autoencoder layer generated========================================>\n",
      "Train on 60000 samples, validate on 10000 samples\n",
      "Epoch 1/50\n",
      "60000/60000 [==============================] - 6s 95us/step - loss: 0.0289 - val_loss: 0.0107\n",
      "Epoch 2/50\n",
      "60000/60000 [==============================] - 5s 88us/step - loss: 0.0148 - val_loss: 0.0077\n",
      "Epoch 3/50\n",
      "60000/60000 [==============================] - 5s 82us/step - loss: 0.0123 - val_loss: 0.0064\n",
      "Epoch 4/50\n",
      "60000/60000 [==============================] - 5s 86us/step - loss: 0.0107 - val_loss: 0.0055\n",
      "Epoch 5/50\n",
      "60000/60000 [==============================] - 5s 83us/step - loss: 0.0096 - val_loss: 0.0047\n",
      "Epoch 6/50\n",
      "60000/60000 [==============================] - 5s 89us/step - loss: 0.0087 - val_loss: 0.0041\n",
      "Epoch 7/50\n",
      "60000/60000 [==============================] - 5s 81us/step - loss: 0.0081 - val_loss: 0.0037\n",
      "Epoch 8/50\n",
      "60000/60000 [==============================] - 5s 83us/step - loss: 0.0077 - val_loss: 0.0036\n",
      "Epoch 9/50\n",
      "60000/60000 [==============================] - 5s 84us/step - loss: 0.0074 - val_loss: 0.0034\n",
      "Epoch 10/50\n",
      "60000/60000 [==============================] - 5s 82us/step - loss: 0.0072 - val_loss: 0.0032\n",
      "Epoch 11/50\n",
      "60000/60000 [==============================] - 5s 86us/step - loss: 0.0070 - val_loss: 0.0030\n",
      "Epoch 12/50\n",
      "60000/60000 [==============================] - 5s 82us/step - loss: 0.0068 - val_loss: 0.0030\n",
      "Epoch 13/50\n",
      "60000/60000 [==============================] - 5s 84us/step - loss: 0.0067 - val_loss: 0.0029\n",
      "Epoch 14/50\n",
      "60000/60000 [==============================] - 5s 83us/step - loss: 0.0066 - val_loss: 0.0029\n",
      "Epoch 15/50\n",
      "60000/60000 [==============================] - 5s 83us/step - loss: 0.0065 - val_loss: 0.0027\n",
      "Epoch 16/50\n",
      "60000/60000 [==============================] - 6s 93us/step - loss: 0.0065 - val_loss: 0.0027\n",
      "Epoch 17/50\n",
      "60000/60000 [==============================] - 6s 98us/step - loss: 0.0064 - val_loss: 0.0027\n",
      "Epoch 18/50\n",
      "60000/60000 [==============================] - 6s 93us/step - loss: 0.0063 - val_loss: 0.0027\n",
      "Epoch 19/50\n",
      "60000/60000 [==============================] - 5s 81us/step - loss: 0.0063 - val_loss: 0.0027\n",
      "Epoch 20/50\n",
      "60000/60000 [==============================] - 5s 84us/step - loss: 0.0063 - val_loss: 0.0026\n",
      "Epoch 21/50\n",
      "60000/60000 [==============================] - 5s 81us/step - loss: 0.0062 - val_loss: 0.0026\n",
      "Epoch 22/50\n",
      "60000/60000 [==============================] - 5s 89us/step - loss: 0.0062 - val_loss: 0.0026\n",
      "Epoch 23/50\n",
      "60000/60000 [==============================] - 5s 90us/step - loss: 0.0062 - val_loss: 0.0026\n"
     ]
    },
    {
     "name": "stdout",
     "output_type": "stream",
     "text": [
      "Epoch 24/50\n",
      "60000/60000 [==============================] - 5s 82us/step - loss: 0.0061 - val_loss: 0.0026\n",
      "Epoch 25/50\n",
      "60000/60000 [==============================] - 5s 81us/step - loss: 0.0061 - val_loss: 0.0026\n",
      "Epoch 26/50\n",
      "60000/60000 [==============================] - 5s 82us/step - loss: 0.0061 - val_loss: 0.0026\n",
      "Epoch 27/50\n",
      "60000/60000 [==============================] - 5s 80us/step - loss: 0.0061 - val_loss: 0.0025\n",
      "Epoch 28/50\n",
      "60000/60000 [==============================] - 5s 80us/step - loss: 0.0060 - val_loss: 0.0026\n",
      "Epoch 29/50\n",
      "60000/60000 [==============================] - 5s 80us/step - loss: 0.0060 - val_loss: 0.0025\n",
      "Epoch 30/50\n",
      "60000/60000 [==============================] - 5s 80us/step - loss: 0.0060 - val_loss: 0.0025\n",
      "Epoch 31/50\n",
      "60000/60000 [==============================] - 5s 81us/step - loss: 0.0060 - val_loss: 0.0025\n",
      "Epoch 32/50\n",
      "60000/60000 [==============================] - 5s 86us/step - loss: 0.0060 - val_loss: 0.0025\n",
      "Epoch 33/50\n",
      "60000/60000 [==============================] - 5s 86us/step - loss: 0.0060 - val_loss: 0.0025\n",
      "Epoch 34/50\n",
      "60000/60000 [==============================] - 5s 81us/step - loss: 0.0059 - val_loss: 0.0025\n",
      "Epoch 35/50\n",
      "60000/60000 [==============================] - 5s 86us/step - loss: 0.0059 - val_loss: 0.0025\n",
      "Epoch 36/50\n",
      "60000/60000 [==============================] - 5s 81us/step - loss: 0.0059 - val_loss: 0.0025\n",
      "Epoch 37/50\n",
      "60000/60000 [==============================] - 5s 82us/step - loss: 0.0059 - val_loss: 0.0024\n",
      "Epoch 38/50\n",
      "60000/60000 [==============================] - 5s 80us/step - loss: 0.0059 - val_loss: 0.0025\n",
      "Epoch 39/50\n",
      "60000/60000 [==============================] - 5s 81us/step - loss: 0.0059 - val_loss: 0.0025\n",
      "Epoch 40/50\n",
      "60000/60000 [==============================] - 5s 84us/step - loss: 0.0059 - val_loss: 0.0024\n",
      "Epoch 41/50\n",
      "60000/60000 [==============================] - 5s 80us/step - loss: 0.0059 - val_loss: 0.0025\n",
      "Epoch 42/50\n",
      "60000/60000 [==============================] - 5s 83us/step - loss: 0.0059 - val_loss: 0.0025\n",
      "Epoch 43/50\n",
      "60000/60000 [==============================] - 5s 84us/step - loss: 0.0058 - val_loss: 0.0024\n",
      "Epoch 44/50\n",
      "60000/60000 [==============================] - 5s 89us/step - loss: 0.0058 - val_loss: 0.0024\n",
      "Epoch 45/50\n",
      "60000/60000 [==============================] - 5s 82us/step - loss: 0.0058 - val_loss: 0.0024\n",
      "Epoch 46/50\n",
      "60000/60000 [==============================] - 5s 85us/step - loss: 0.0058 - val_loss: 0.0024\n",
      "Epoch 47/50\n",
      "60000/60000 [==============================] - 5s 84us/step - loss: 0.0058 - val_loss: 0.0024\n",
      "Epoch 48/50\n",
      "60000/60000 [==============================] - 7s 111us/step - loss: 0.0058 - val_loss: 0.0024\n",
      "Epoch 49/50\n",
      "60000/60000 [==============================] - 7s 112us/step - loss: 0.0058 - val_loss: 0.0024\n",
      "Epoch 50/50\n",
      "60000/60000 [==============================] - 5s 84us/step - loss: 0.0058 - val_loss: 0.0024\n",
      "<========================================2 autoencoder layer trained========================================>\n",
      "<========================================3 autoencoder layer generated========================================>\n",
      "Train on 60000 samples, validate on 10000 samples\n",
      "Epoch 1/50\n",
      "60000/60000 [==============================] - 14s 229us/step - loss: 0.0121 - val_loss: 0.0047\n",
      "Epoch 2/50\n",
      "60000/60000 [==============================] - 13s 219us/step - loss: 0.0071 - val_loss: 0.0038\n",
      "Epoch 3/50\n",
      "60000/60000 [==============================] - 14s 230us/step - loss: 0.0058 - val_loss: 0.0031\n",
      "Epoch 4/50\n",
      "60000/60000 [==============================] - 13s 218us/step - loss: 0.0050 - val_loss: 0.0026\n",
      "Epoch 5/50\n",
      "60000/60000 [==============================] - 13s 215us/step - loss: 0.0046 - val_loss: 0.0024\n",
      "Epoch 6/50\n",
      "60000/60000 [==============================] - 13s 212us/step - loss: 0.0043 - val_loss: 0.0023\n",
      "Epoch 7/50\n",
      "60000/60000 [==============================] - 13s 213us/step - loss: 0.0041 - val_loss: 0.0023\n",
      "Epoch 8/50\n",
      "60000/60000 [==============================] - 13s 212us/step - loss: 0.0039 - val_loss: 0.0020\n",
      "Epoch 9/50\n",
      "60000/60000 [==============================] - 13s 211us/step - loss: 0.0038 - val_loss: 0.0020\n",
      "Epoch 10/50\n",
      "60000/60000 [==============================] - 13s 211us/step - loss: 0.0037 - val_loss: 0.0020\n",
      "Epoch 11/50\n",
      "60000/60000 [==============================] - 13s 213us/step - loss: 0.0036 - val_loss: 0.0019\n",
      "Epoch 12/50\n",
      "60000/60000 [==============================] - 13s 215us/step - loss: 0.0035 - val_loss: 0.0019\n",
      "Epoch 13/50\n",
      "60000/60000 [==============================] - 13s 212us/step - loss: 0.0035 - val_loss: 0.0018\n",
      "Epoch 14/50\n",
      "60000/60000 [==============================] - 13s 214us/step - loss: 0.0034 - val_loss: 0.0019\n",
      "Epoch 15/50\n",
      "60000/60000 [==============================] - 13s 217us/step - loss: 0.0034 - val_loss: 0.0018\n",
      "Epoch 16/50\n",
      "60000/60000 [==============================] - 13s 223us/step - loss: 0.0034 - val_loss: 0.0018\n",
      "Epoch 17/50\n",
      "60000/60000 [==============================] - 13s 215us/step - loss: 0.0033 - val_loss: 0.0018\n",
      "Epoch 18/50\n",
      "60000/60000 [==============================] - 13s 211us/step - loss: 0.0033 - val_loss: 0.0018\n",
      "Epoch 19/50\n",
      "60000/60000 [==============================] - 13s 212us/step - loss: 0.0033 - val_loss: 0.0017\n",
      "Epoch 20/50\n",
      "60000/60000 [==============================] - 13s 216us/step - loss: 0.0033 - val_loss: 0.0017\n",
      "Epoch 21/50\n",
      "60000/60000 [==============================] - 13s 210us/step - loss: 0.0032 - val_loss: 0.0017\n",
      "Epoch 22/50\n",
      "60000/60000 [==============================] - 13s 211us/step - loss: 0.0032 - val_loss: 0.0018\n",
      "Epoch 23/50\n",
      "60000/60000 [==============================] - 13s 210us/step - loss: 0.0032 - val_loss: 0.0017\n",
      "Epoch 24/50\n",
      "60000/60000 [==============================] - 13s 210us/step - loss: 0.0032 - val_loss: 0.0018\n",
      "Epoch 25/50\n",
      "60000/60000 [==============================] - 13s 211us/step - loss: 0.0032 - val_loss: 0.0017\n",
      "Epoch 26/50\n",
      "60000/60000 [==============================] - 15s 252us/step - loss: 0.0032 - val_loss: 0.0017\n",
      "Epoch 27/50\n",
      "60000/60000 [==============================] - 15s 247us/step - loss: 0.0032 - val_loss: 0.0018\n",
      "Epoch 28/50\n",
      "60000/60000 [==============================] - 13s 218us/step - loss: 0.0031 - val_loss: 0.0017\n",
      "Epoch 29/50\n",
      "60000/60000 [==============================] - 13s 217us/step - loss: 0.0031 - val_loss: 0.0017\n",
      "Epoch 30/50\n",
      "60000/60000 [==============================] - 13s 209us/step - loss: 0.0031 - val_loss: 0.0017\n",
      "Epoch 31/50\n",
      "60000/60000 [==============================] - 13s 210us/step - loss: 0.0031 - val_loss: 0.0017\n",
      "Epoch 32/50\n",
      "60000/60000 [==============================] - 13s 210us/step - loss: 0.0031 - val_loss: 0.0017\n",
      "Epoch 33/50\n",
      "60000/60000 [==============================] - 13s 214us/step - loss: 0.0031 - val_loss: 0.0017\n",
      "Epoch 34/50\n",
      "60000/60000 [==============================] - 13s 217us/step - loss: 0.0031 - val_loss: 0.0017\n",
      "Epoch 35/50\n",
      "60000/60000 [==============================] - 13s 211us/step - loss: 0.0031 - val_loss: 0.0017\n",
      "Epoch 36/50\n",
      "60000/60000 [==============================] - 13s 210us/step - loss: 0.0031 - val_loss: 0.0017\n",
      "Epoch 37/50\n",
      "60000/60000 [==============================] - 13s 211us/step - loss: 0.0031 - val_loss: 0.0017\n",
      "Epoch 38/50\n",
      "60000/60000 [==============================] - 13s 210us/step - loss: 0.0031 - val_loss: 0.0017\n",
      "Epoch 39/50\n",
      "60000/60000 [==============================] - 13s 210us/step - loss: 0.0031 - val_loss: 0.0017\n",
      "Epoch 40/50\n",
      "60000/60000 [==============================] - 13s 210us/step - loss: 0.0031 - val_loss: 0.0017\n",
      "Epoch 41/50\n",
      "60000/60000 [==============================] - 13s 210us/step - loss: 0.0030 - val_loss: 0.0017\n",
      "Epoch 42/50\n",
      "60000/60000 [==============================] - 13s 223us/step - loss: 0.0030 - val_loss: 0.0017\n",
      "Epoch 43/50\n",
      "60000/60000 [==============================] - 13s 213us/step - loss: 0.0030 - val_loss: 0.0017\n",
      "Epoch 44/50\n",
      "60000/60000 [==============================] - 13s 210us/step - loss: 0.0030 - val_loss: 0.0017\n",
      "Epoch 45/50\n",
      "60000/60000 [==============================] - 13s 215us/step - loss: 0.0030 - val_loss: 0.0017\n",
      "Epoch 46/50\n",
      "60000/60000 [==============================] - 13s 213us/step - loss: 0.0030 - val_loss: 0.0017\n",
      "Epoch 47/50\n",
      "60000/60000 [==============================] - 13s 214us/step - loss: 0.0030 - val_loss: 0.0017\n"
     ]
    },
    {
     "name": "stdout",
     "output_type": "stream",
     "text": [
      "Epoch 48/50\n",
      "60000/60000 [==============================] - 13s 217us/step - loss: 0.0030 - val_loss: 0.0017\n",
      "Epoch 49/50\n",
      "60000/60000 [==============================] - 13s 213us/step - loss: 0.0030 - val_loss: 0.0017\n",
      "Epoch 50/50\n",
      "60000/60000 [==============================] - 13s 219us/step - loss: 0.0030 - val_loss: 0.0017\n",
      "<========================================3 autoencoder layer trained========================================>\n",
      "<========================================4 autoencoder layer generated========================================>\n",
      "Train on 60000 samples, validate on 10000 samples\n",
      "Epoch 1/50\n",
      "60000/60000 [==============================] - 8s 125us/step - loss: 0.0053 - val_loss: 0.0042\n",
      "Epoch 2/50\n",
      "60000/60000 [==============================] - 6s 106us/step - loss: 0.0047 - val_loss: 0.0042\n",
      "Epoch 3/50\n",
      "60000/60000 [==============================] - 5s 91us/step - loss: 0.0047 - val_loss: 0.0042\n",
      "Epoch 4/50\n",
      "60000/60000 [==============================] - 5s 88us/step - loss: 0.0047 - val_loss: 0.0042\n",
      "Epoch 5/50\n",
      "60000/60000 [==============================] - 5s 88us/step - loss: 0.0047 - val_loss: 0.0042\n",
      "Epoch 6/50\n",
      "60000/60000 [==============================] - 5s 84us/step - loss: 0.0047 - val_loss: 0.0042\n",
      "Epoch 7/50\n",
      "60000/60000 [==============================] - ETA: 0s - loss: 0.004 - 5s 90us/step - loss: 0.0047 - val_loss: 0.0042\n",
      "Epoch 8/50\n",
      "60000/60000 [==============================] - 5s 85us/step - loss: 0.0047 - val_loss: 0.0042\n",
      "Epoch 9/50\n",
      "60000/60000 [==============================] - 5s 89us/step - loss: 0.0047 - val_loss: 0.0042\n",
      "Epoch 10/50\n",
      "60000/60000 [==============================] - 5s 89us/step - loss: 0.0047 - val_loss: 0.0042\n",
      "Epoch 11/50\n",
      "60000/60000 [==============================] - 5s 91us/step - loss: 0.0047 - val_loss: 0.0042\n",
      "Epoch 12/50\n",
      "60000/60000 [==============================] - 8s 132us/step - loss: 0.0047 - val_loss: 0.0042\n",
      "Epoch 13/50\n",
      "60000/60000 [==============================] - 7s 110us/step - loss: 0.0047 - val_loss: 0.0042\n",
      "Epoch 14/50\n",
      "60000/60000 [==============================] - 5s 89us/step - loss: 0.0047 - val_loss: 0.0042\n",
      "Epoch 15/50\n",
      "60000/60000 [==============================] - 5s 88us/step - loss: 0.0047 - val_loss: 0.0042\n",
      "Epoch 16/50\n",
      "60000/60000 [==============================] - 5s 86us/step - loss: 0.0047 - val_loss: 0.0042\n",
      "Epoch 17/50\n",
      "60000/60000 [==============================] - 5s 82us/step - loss: 0.0047 - val_loss: 0.0042\n",
      "Epoch 18/50\n",
      "60000/60000 [==============================] - 5s 83us/step - loss: 0.0047 - val_loss: 0.0042\n",
      "Epoch 19/50\n",
      "60000/60000 [==============================] - 5s 83us/step - loss: 0.0047 - val_loss: 0.0042\n",
      "Epoch 20/50\n",
      "60000/60000 [==============================] - 5s 84us/step - loss: 0.0047 - val_loss: 0.0042\n",
      "Epoch 21/50\n",
      "60000/60000 [==============================] - 5s 83us/step - loss: 0.0047 - val_loss: 0.0042\n",
      "Epoch 22/50\n",
      "60000/60000 [==============================] - 5s 83us/step - loss: 0.0047 - val_loss: 0.0042\n",
      "Epoch 23/50\n",
      "60000/60000 [==============================] - 5s 83us/step - loss: 0.0047 - val_loss: 0.0042\n",
      "Epoch 24/50\n",
      "60000/60000 [==============================] - 5s 83us/step - loss: 0.0047 - val_loss: 0.0042\n",
      "Epoch 25/50\n",
      "60000/60000 [==============================] - 5s 85us/step - loss: 0.0047 - val_loss: 0.0042\n",
      "Epoch 26/50\n",
      "60000/60000 [==============================] - 5s 83us/step - loss: 0.0047 - val_loss: 0.0042\n",
      "Epoch 27/50\n",
      "60000/60000 [==============================] - 5s 90us/step - loss: 0.0047 - val_loss: 0.0042\n",
      "Epoch 28/50\n",
      "60000/60000 [==============================] - 5s 89us/step - loss: 0.0047 - val_loss: 0.0042\n",
      "Epoch 29/50\n",
      "60000/60000 [==============================] - 5s 86us/step - loss: 0.0047 - val_loss: 0.0042\n",
      "Epoch 30/50\n",
      "60000/60000 [==============================] - 5s 88us/step - loss: 0.0047 - val_loss: 0.0042\n",
      "Epoch 31/50\n",
      "60000/60000 [==============================] - 5s 85us/step - loss: 0.0047 - val_loss: 0.0042\n",
      "Epoch 32/50\n",
      "60000/60000 [==============================] - 5s 84us/step - loss: 0.0047 - val_loss: 0.0042\n",
      "Epoch 33/50\n",
      "60000/60000 [==============================] - 5s 83us/step - loss: 0.0047 - val_loss: 0.0042\n",
      "Epoch 34/50\n",
      "60000/60000 [==============================] - 5s 84us/step - loss: 0.0047 - val_loss: 0.0042\n",
      "Epoch 35/50\n",
      "60000/60000 [==============================] - 5s 83us/step - loss: 0.0047 - val_loss: 0.0042\n",
      "Epoch 36/50\n",
      "60000/60000 [==============================] - 5s 82us/step - loss: 0.0047 - val_loss: 0.0042\n",
      "Epoch 37/50\n",
      "60000/60000 [==============================] - 5s 85us/step - loss: 0.0046 - val_loss: 0.0042\n",
      "Epoch 38/50\n",
      "60000/60000 [==============================] - 5s 84us/step - loss: 0.0047 - val_loss: 0.0042\n",
      "Epoch 39/50\n",
      "60000/60000 [==============================] - 5s 84us/step - loss: 0.0046 - val_loss: 0.0042\n",
      "Epoch 40/50\n",
      "60000/60000 [==============================] - 5s 83us/step - loss: 0.0047 - val_loss: 0.0042\n",
      "Epoch 41/50\n",
      "60000/60000 [==============================] - 5s 83us/step - loss: 0.0047 - val_loss: 0.0042\n",
      "Epoch 42/50\n",
      "60000/60000 [==============================] - 5s 83us/step - loss: 0.0047 - val_loss: 0.0042\n",
      "Epoch 43/50\n",
      "60000/60000 [==============================] - 5s 85us/step - loss: 0.0047 - val_loss: 0.0042\n",
      "Epoch 44/50\n",
      "60000/60000 [==============================] - 5s 87us/step - loss: 0.0047 - val_loss: 0.0042\n",
      "Epoch 45/50\n",
      "60000/60000 [==============================] - 5s 84us/step - loss: 0.0047 - val_loss: 0.0042\n",
      "Epoch 46/50\n",
      "60000/60000 [==============================] - 5s 85us/step - loss: 0.0047 - val_loss: 0.0042\n",
      "Epoch 47/50\n",
      "60000/60000 [==============================] - 5s 84us/step - loss: 0.0047 - val_loss: 0.0042\n",
      "Epoch 48/50\n",
      "60000/60000 [==============================] - 5s 84us/step - loss: 0.0047 - val_loss: 0.0042\n",
      "Epoch 49/50\n",
      "60000/60000 [==============================] - 5s 83us/step - loss: 0.0046 - val_loss: 0.0042\n",
      "Epoch 50/50\n",
      "60000/60000 [==============================] - 5s 84us/step - loss: 0.0047 - val_loss: 0.0042\n",
      "<========================================4 autoencoder layer trained========================================>\n"
     ]
    }
   ],
   "source": [
    "autoencoders, encoders, decoders = train_autoencoder_layers_separately()"
   ]
  },
  {
   "cell_type": "code",
   "execution_count": 32,
   "metadata": {
    "colab": {
     "base_uri": "https://localhost:8080/",
     "height": 34
    },
    "colab_type": "code",
    "id": "MkTiORNVL-cv",
    "outputId": "7ff80f09-7f41-42ce-9900-066f466b085d"
   },
   "outputs": [
    {
     "data": {
      "text/plain": [
       "<keras.layers.core.Dense at 0x7fd60f6454a8>"
      ]
     },
     "execution_count": 32,
     "metadata": {
      "tags": []
     },
     "output_type": "execute_result"
    }
   ],
   "source": [
    "autoencoders[3].layers[4]"
   ]
  },
  {
   "cell_type": "code",
   "execution_count": 11,
   "metadata": {
    "colab": {
     "base_uri": "https://localhost:8080/",
     "height": 85
    },
    "colab_type": "code",
    "id": "XdkAXqBXHOus",
    "outputId": "0068a4ca-70b0-43ce-ab80-7d5ee41e4ae3"
   },
   "outputs": [
    {
     "name": "stdout",
     "output_type": "stream",
     "text": [
      "(500,)\n",
      "(500,)\n",
      "(2000,)\n",
      "(10,)\n"
     ]
    }
   ],
   "source": [
    "# fine tune full autoencoder\n",
    "\n",
    "# autoencoder.compile(optimizer='adadelta', loss='binary_crossentropy')\n",
    "from keras.models import Sequential\n",
    "input_ = Input(shape=(original_dim,))\n",
    "encode1 = autoencoders[0].layers[1](input_)\n",
    "# print(encode1.get_input_shape_at(0))\n",
    "encode1 = autoencoders[0].layers[2](encode1)\n",
    "print(encode1[0].shape)\n",
    "encode2 = autoencoders[1].layers[1](encode1)\n",
    "encode2 = autoencoders[1].layers[2](encode2)\n",
    "print(encode2[0].shape)\n",
    "encode3 = autoencoders[2].layers[1](encode2)\n",
    "encode3 = autoencoders[2].layers[2](encode3)\n",
    "print(encode3[0].shape)\n",
    "encode4 = autoencoders[3].layers[1](encode3)\n",
    "encode4 = autoencoders[3].layers[2](encode4)\n",
    "print(encode4[0].shape)\n",
    "\n",
    "decode4 = autoencoders[3].layers[3](encode4)\n",
    "decode4 = autoencoders[3].layers[4](decode4)\n",
    "decode3 = autoencoders[2].layers[3](decode4)\n",
    "decode3 = autoencoders[2].layers[4](decode3)\n",
    "decode2 = autoencoders[1].layers[3](decode3)\n",
    "decode2 = autoencoders[1].layers[4](decode2)\n",
    "decode1 = autoencoders[0].layers[3](decode2)\n",
    "decode1 = autoencoders[0].layers[4](decode1)\n",
    "\n",
    "\n",
    "sae_autoencoder = Model(inputs=input_, outputs=decode1)\n",
    "\n",
    "# encode_layers = []\n",
    "# decode_layers = []\n",
    "# for i in range(n_layers):\n",
    "#   encode_layers.extend([autoencoders[i].layers[0], autoencoders[i].layers[1]])\n",
    "#   decode_layers.insert(0, autoencoders[i].layers[-1])  # decode layers are in reverse order\n",
    "#   decode_layers.insert(0, autoencoders[i].layers[-2])\n",
    "\n",
    "# layers = encode_layers + decode_layers\n",
    "# sae_autoencoder = Model(layers)\n",
    "sae_autoencoder.compile(loss='mean_squared_error', optimizer='adam',  metrics=['accuracy'])\n",
    "# print(sae_autoencoder.summary())\n"
   ]
  },
  {
   "cell_type": "code",
   "execution_count": 13,
   "metadata": {},
   "outputs": [
    {
     "ename": "ModuleNotFoundError",
     "evalue": "No module named 'google.colab'",
     "output_type": "error",
     "traceback": [
      "\u001b[0;31m--------------------------------------------------------------\u001b[0m",
      "\u001b[0;31mModuleNotFoundError\u001b[0m          Traceback (most recent call last)",
      "\u001b[0;32m<ipython-input-13-80bea5481fc3>\u001b[0m in \u001b[0;36m<module>\u001b[0;34m\u001b[0m\n\u001b[0;32m----> 1\u001b[0;31m \u001b[0;32mfrom\u001b[0m \u001b[0mgoogle\u001b[0m\u001b[0;34m.\u001b[0m\u001b[0mcolab\u001b[0m \u001b[0;32mimport\u001b[0m \u001b[0mdrive\u001b[0m\u001b[0;34m\u001b[0m\u001b[0;34m\u001b[0m\u001b[0m\n\u001b[0m\u001b[1;32m      2\u001b[0m \u001b[0mdrive\u001b[0m\u001b[0;34m.\u001b[0m\u001b[0mmount\u001b[0m\u001b[0;34m(\u001b[0m\u001b[0;34m'/content/gdrive'\u001b[0m\u001b[0;34m,\u001b[0m \u001b[0mforce_remount\u001b[0m\u001b[0;34m=\u001b[0m\u001b[0;32mTrue\u001b[0m\u001b[0;34m)\u001b[0m\u001b[0;34m\u001b[0m\u001b[0;34m\u001b[0m\u001b[0m\n",
      "\u001b[0;31mModuleNotFoundError\u001b[0m: No module named 'google.colab'"
     ]
    }
   ],
   "source": [
    "!pip install goo"
   ]
  },
  {
   "cell_type": "code",
   "execution_count": 12,
   "metadata": {},
   "outputs": [
    {
     "ename": "ModuleNotFoundError",
     "evalue": "No module named 'google.colab'",
     "output_type": "error",
     "traceback": [
      "\u001b[0;31m--------------------------------------------------------------\u001b[0m",
      "\u001b[0;31mModuleNotFoundError\u001b[0m          Traceback (most recent call last)",
      "\u001b[0;32m<ipython-input-12-35854038ca30>\u001b[0m in \u001b[0;36m<module>\u001b[0;34m\u001b[0m\n\u001b[1;32m      1\u001b[0m \u001b[0;34m\u001b[0m\u001b[0m\n\u001b[0;32m----> 2\u001b[0;31m \u001b[0;32mfrom\u001b[0m \u001b[0mgoogle\u001b[0m\u001b[0;34m.\u001b[0m\u001b[0mcolab\u001b[0m \u001b[0;32mimport\u001b[0m \u001b[0mdrive\u001b[0m\u001b[0;34m\u001b[0m\u001b[0;34m\u001b[0m\u001b[0m\n\u001b[0m\u001b[1;32m      3\u001b[0m \u001b[0mdrive\u001b[0m\u001b[0;34m.\u001b[0m\u001b[0mmount\u001b[0m\u001b[0;34m(\u001b[0m\u001b[0;34m'/content/gdrive'\u001b[0m\u001b[0;34m,\u001b[0m \u001b[0mforce_remount\u001b[0m\u001b[0;34m=\u001b[0m\u001b[0;32mTrue\u001b[0m\u001b[0;34m)\u001b[0m\u001b[0;34m\u001b[0m\u001b[0;34m\u001b[0m\u001b[0m\n\u001b[1;32m      4\u001b[0m \u001b[0msae_autoencoder\u001b[0m\u001b[0;34m.\u001b[0m\u001b[0msave\u001b[0m\u001b[0;34m(\u001b[0m\u001b[0;34m'sae_autoencoder.h5'\u001b[0m\u001b[0;34m)\u001b[0m\u001b[0;34m\u001b[0m\u001b[0;34m\u001b[0m\u001b[0m\n\u001b[1;32m      5\u001b[0m \u001b[0;32mfrom\u001b[0m \u001b[0mgoogle\u001b[0m\u001b[0;34m.\u001b[0m\u001b[0mcolab\u001b[0m \u001b[0;32mimport\u001b[0m \u001b[0mfiles\u001b[0m\u001b[0;34m\u001b[0m\u001b[0;34m\u001b[0m\u001b[0m\n",
      "\u001b[0;31mModuleNotFoundError\u001b[0m: No module named 'google.colab'"
     ]
    }
   ],
   "source": [
    "\n",
    "\n",
    "sae_autoencoder.save('sae_autoencoder.h5')\n",
    "from google.colab import files\n",
    "files.download( \"sae_autoencoder.h5\" ) \n"
   ]
  },
  {
   "cell_type": "code",
   "execution_count": 11,
   "metadata": {
    "colab": {
     "base_uri": "https://localhost:8080/",
     "height": 391
    },
    "colab_type": "code",
    "id": "CSBnkrFGLYXR",
    "outputId": "fccc4934-8465-47ef-a1b5-a40a2c9e5bee"
   },
   "outputs": [
    {
     "name": "stdout",
     "output_type": "stream",
     "text": [
      "<bound method Network.summary of <keras.engine.training.Model object at 0xb9a047c18>>\n",
      "Train on 60000 samples, validate on 10000 samples\n",
      "Epoch 1/10\n",
      "60000/60000 [==============================] - 44s 735us/step - loss: 0.0381 - acc: 0.0101 - val_loss: 0.0253 - val_acc: 0.0140\n",
      "Epoch 2/10\n",
      "60000/60000 [==============================] - 36s 593us/step - loss: 0.0341 - acc: 0.0113 - val_loss: 0.0242 - val_acc: 0.0133\n",
      "Epoch 3/10\n",
      "60000/60000 [==============================] - 35s 584us/step - loss: 0.0326 - acc: 0.0099 - val_loss: 0.0233 - val_acc: 0.0089\n",
      "Epoch 4/10\n",
      "60000/60000 [==============================] - 32s 530us/step - loss: 0.0318 - acc: 0.0107 - val_loss: 0.0227 - val_acc: 0.0121\n",
      "Epoch 5/10\n",
      "60000/60000 [==============================] - 30s 501us/step - loss: 0.0313 - acc: 0.0106 - val_loss: 0.0225 - val_acc: 0.0150\n",
      "Epoch 6/10\n",
      "60000/60000 [==============================] - 30s 496us/step - loss: 0.0309 - acc: 0.0102 - val_loss: 0.0225 - val_acc: 0.0110\n",
      "Epoch 7/10\n",
      "60000/60000 [==============================] - 29s 491us/step - loss: 0.0307 - acc: 0.0107 - val_loss: 0.0220 - val_acc: 0.0114\n",
      "Epoch 8/10\n",
      "60000/60000 [==============================] - 28s 474us/step - loss: 0.0303 - acc: 0.0103 - val_loss: 0.0223 - val_acc: 0.0096\n",
      "Epoch 9/10\n",
      "60000/60000 [==============================] - 28s 471us/step - loss: 0.0301 - acc: 0.0108 - val_loss: 0.0223 - val_acc: 0.0127\n",
      "Epoch 10/10\n",
      "60000/60000 [==============================] - 28s 464us/step - loss: 0.0299 - acc: 0.0109 - val_loss: 0.0221 - val_acc: 0.0111\n"
     ]
    }
   ],
   "source": [
    "print(sae_autoencoder.summary)\n",
    "history = sae_autoencoder.fit(x_train, x_train,\n",
    "                     epochs=10,\n",
    "                     batch_size=256,\n",
    "                     validation_data=(x_test, x_test))"
   ]
  },
  {
   "cell_type": "code",
   "execution_count": null,
   "metadata": {
    "colab": {
     "base_uri": "https://localhost:8080/",
     "height": 376
    },
    "colab_type": "code",
    "id": "8zieeY1EPijY",
    "outputId": "b45c779b-2484-4cb9-bac2-f5c0c7ec1b88"
   },
   "outputs": [],
   "source": [
    "import matplotlib.pyplot as plt\n",
    "plt.plot(history.history['acc'])\n",
    "plt.plot(history.history['val_acc'])\n",
    "plt.title('model accuracy')\n",
    "plt.ylabel('accuracy')\n",
    "plt.xlabel('epoch')\n",
    "plt.legend(['train', 'test'], loc='upper left')\n",
    "plt.show()"
   ]
  },
  {
   "cell_type": "code",
   "execution_count": 1,
   "metadata": {
    "colab": {
     "base_uri": "https://localhost:8080/",
     "height": 714
    },
    "colab_type": "code",
    "id": "2Qjmh6HqvlcN",
    "outputId": "f91a382d-6bd9-47d5-cd92-82f2d46b3049"
   },
   "outputs": [
    {
     "ename": "NameError",
     "evalue": "name 'sae_autoencoder' is not defined",
     "output_type": "error",
     "traceback": [
      "\u001b[0;31m-------------------------------------------------\u001b[0m",
      "\u001b[0;31mNameError\u001b[0m       Traceback (most recent call last)",
      "\u001b[0;32m<ipython-input-1-68ba98ece6e8>\u001b[0m in \u001b[0;36m<module>\u001b[0;34m\u001b[0m\n\u001b[0;32m----> 1\u001b[0;31m \u001b[0msae_autoencoder\u001b[0m\u001b[0;34m.\u001b[0m\u001b[0msummary\u001b[0m\u001b[0;34m(\u001b[0m\u001b[0;34m)\u001b[0m\u001b[0;34m\u001b[0m\u001b[0;34m\u001b[0m\u001b[0m\n\u001b[0m",
      "\u001b[0;31mNameError\u001b[0m: name 'sae_autoencoder' is not defined"
     ]
    }
   ],
   "source": [
    "sae_autoencoder.summary()"
   ]
  },
  {
   "cell_type": "code",
   "execution_count": 0,
   "metadata": {
    "colab": {},
    "colab_type": "code",
    "id": "1Sk_tYc1vlPy"
   },
   "outputs": [],
   "source": [
    "predicted = sae_autoencoder.predict(x_test)"
   ]
  },
  {
   "cell_type": "code",
   "execution_count": 0,
   "metadata": {
    "colab": {},
    "colab_type": "code",
    "id": "dMDK8biLwfYH"
   },
   "outputs": [],
   "source": [
    "for i in predicted:\n",
    "  i.reshape(28,28)"
   ]
  },
  {
   "cell_type": "code",
   "execution_count": 54,
   "metadata": {
    "colab": {
     "base_uri": "https://localhost:8080/",
     "height": 34
    },
    "colab_type": "code",
    "id": "sX93wUfVwpfw",
    "outputId": "ed328c7f-8191-4f92-b167-109c1b1d3a90"
   },
   "outputs": [
    {
     "data": {
      "text/plain": [
       "(784,)"
      ]
     },
     "execution_count": 54,
     "metadata": {
      "tags": []
     },
     "output_type": "execute_result"
    }
   ],
   "source": [
    "predicted[0].shape"
   ]
  },
  {
   "cell_type": "code",
   "execution_count": 57,
   "metadata": {
    "colab": {
     "base_uri": "https://localhost:8080/",
     "height": 63
    },
    "colab_type": "code",
    "id": "ZpgxkJnhxuSj",
    "outputId": "5d6d38c8-7653-4d78-91fd-375b9f62abb8"
   },
   "outputs": [
    {
     "name": "stdout",
     "output_type": "stream",
     "text": [
      "/content\n"
     ]
    }
   ],
   "source": [
    "!pwd"
   ]
  },
  {
   "cell_type": "code",
   "execution_count": 72,
   "metadata": {
    "colab": {
     "base_uri": "https://localhost:8080/",
     "height": 34
    },
    "colab_type": "code",
    "id": "TU_EPPrXx6Ou",
    "outputId": "ed8a54ef-43fc-485b-895f-99202ffce1dc"
   },
   "outputs": [
    {
     "name": "stdout",
     "output_type": "stream",
     "text": [
      "Mounted at /content/gdrive\n"
     ]
    }
   ],
   "source": [
    "\n",
    "from google.colab import drive\n",
    "drive.mount('/content/gdrive', force_remount=True)"
   ]
  },
  {
   "cell_type": "code",
   "execution_count": 75,
   "metadata": {
    "colab": {
     "base_uri": "https://localhost:8080/",
     "height": 63
    },
    "colab_type": "code",
    "id": "3ZBdcGxZyjvk",
    "outputId": "a9bc94cc-0741-48ca-fc1f-2e2bda1239ce"
   },
   "outputs": [
    {
     "name": "stdout",
     "output_type": "stream",
     "text": [
      "drive  gdrive  sae_autoencoder.h5  sample_data\n"
     ]
    }
   ],
   "source": [
    "!ls"
   ]
  },
  {
   "cell_type": "code",
   "execution_count": 0,
   "metadata": {
    "colab": {},
    "colab_type": "code",
    "id": "nkswlpcyyp6w"
   },
   "outputs": [],
   "source": [
    "from google.colab import files\n",
    "files.download( \"sae_autoencoder.h5\" ) "
   ]
  },
  {
   "cell_type": "code",
   "execution_count": 0,
   "metadata": {
    "colab": {},
    "colab_type": "code",
    "id": "q5GAcLZxyMeg"
   },
   "outputs": [],
   "source": [
    "sae_autoencoder.save('sae_autoencoder.h5')"
   ]
  },
  {
   "cell_type": "code",
   "execution_count": 56,
   "metadata": {
    "colab": {
     "base_uri": "https://localhost:8080/",
     "height": 414
    },
    "colab_type": "code",
    "id": "mXOprDsgdgeJ",
    "outputId": "6882d866-7479-4d19-e8b7-bd4281d240f0"
   },
   "outputs": [
    {
     "name": "stdout",
     "output_type": "stream",
     "text": [
      "(784,)\n",
      "(784,)\n",
      "(784,)\n",
      "(784,)\n",
      "(784,)\n",
      "(784,)\n",
      "(784,)\n",
      "(784,)\n",
      "(784,)\n",
      "(784,)\n"
     ]
    },
    {
     "data": {
      "image/png": "[encoded data removed]",
      "text/plain": [
       "<Figure size 1440x288 with 20 Axes>"
      ]
     },
     "metadata": {
      "tags": []
     },
     "output_type": "display_data"
    }
   ],
   "source": [
    "import matplotlib.pyplot as plt\n",
    "# sae_autoencoder.predict(x_test[i])\n",
    "n = 10  # how many digits we will display\n",
    "plt.figure(figsize=(20, 4))\n",
    "for i in range(n):\n",
    "    # display original\n",
    "    ax = plt.subplot(2, n, i + 1)\n",
    "    plt.imshow(x_test[i].reshape(28, 28))\n",
    "    plt.gray()\n",
    "    ax.get_xaxis().set_visible(False)\n",
    "    ax.get_yaxis().set_visible(False)\n",
    "\n",
    "    # display reconstruction\n",
    "    ax = plt.subplot(2, n, i + 1 + n)\n",
    "    print(x_test[i].shape)\n",
    "    plt.imshow(predicted[i].reshape(28,28))\n",
    "    plt.gray()\n",
    "    ax.get_xaxis().set_visible(False)\n",
    "    ax.get_yaxis().set_visible(False)\n",
    "plt.show()"
   ]
  },
  {
   "cell_type": "code",
   "execution_count": 5,
   "metadata": {
    "colab": {},
    "colab_type": "code",
    "id": "DMXe-yWodkQQ"
   },
   "outputs": [],
   "source": [
    "from keras.models import load_model\n",
    "sae_autoencoder = load_model('sae_autoencoder.h5')"
   ]
  },
  {
   "cell_type": "code",
   "execution_count": 6,
   "metadata": {},
   "outputs": [],
   "source": [
    "sae_autoencoder.compile(loss='mean_squared_error', optimizer='adam',  metrics=['accuracy'])"
   ]
  },
  {
   "cell_type": "code",
   "execution_count": 3,
   "metadata": {},
   "outputs": [],
   "source": [
    "import matplotlib.pyplot as plt"
   ]
  },
  {
   "cell_type": "code",
   "execution_count": 7,
   "metadata": {},
   "outputs": [
    {
     "name": "stdout",
     "output_type": "stream",
     "text": [
      "Train on 60000 samples, validate on 10000 samples\n",
      "Epoch 1/50\n",
      "60000/60000 [==============================] - 30s 506us/step - loss: 0.0382 - acc: 0.0101 - val_loss: 0.0257 - val_acc: 0.0102\n",
      "Epoch 2/50\n",
      "60000/60000 [==============================] - 32s 541us/step - loss: 0.0339 - acc: 0.0094 - val_loss: 0.0241 - val_acc: 0.0122\n",
      "Epoch 3/50\n",
      "60000/60000 [==============================] - 30s 506us/step - loss: 0.0327 - acc: 0.0094 - val_loss: 0.0234 - val_acc: 0.0107\n",
      "Epoch 4/50\n",
      "60000/60000 [==============================] - 28s 471us/step - loss: 0.0319 - acc: 0.0103 - val_loss: 0.0230 - val_acc: 0.0125\n",
      "Epoch 5/50\n",
      "60000/60000 [==============================] - 28s 474us/step - loss: 0.0313 - acc: 0.0100 - val_loss: 0.0228 - val_acc: 0.0099\n",
      "Epoch 6/50\n",
      "60000/60000 [==============================] - 29s 482us/step - loss: 0.0308 - acc: 0.0097 - val_loss: 0.0222 - val_acc: 0.0092\n",
      "Epoch 7/50\n",
      "60000/60000 [==============================] - 30s 508us/step - loss: 0.0306 - acc: 0.0096 - val_loss: 0.0225 - val_acc: 0.0130\n",
      "Epoch 8/50\n",
      "60000/60000 [==============================] - 31s 517us/step - loss: 0.0303 - acc: 0.0095 - val_loss: 0.0218 - val_acc: 0.0137\n",
      "Epoch 9/50\n",
      "60000/60000 [==============================] - 31s 522us/step - loss: 0.0301 - acc: 0.0105 - val_loss: 0.0224 - val_acc: 0.0114\n",
      "Epoch 10/50\n",
      "60000/60000 [==============================] - 33s 545us/step - loss: 0.0299 - acc: 0.0100 - val_loss: 0.0217 - val_acc: 0.0122\n",
      "Epoch 11/50\n",
      "60000/60000 [==============================] - 29s 475us/step - loss: 0.0298 - acc: 0.0099 - val_loss: 0.0224 - val_acc: 0.0084\n",
      "Epoch 12/50\n",
      "60000/60000 [==============================] - 27s 455us/step - loss: 0.0296 - acc: 0.0110 - val_loss: 0.0219 - val_acc: 0.0110\n",
      "Epoch 13/50\n",
      "60000/60000 [==============================] - 28s 465us/step - loss: 0.0295 - acc: 0.0106 - val_loss: 0.0216 - val_acc: 0.0112\n",
      "Epoch 14/50\n",
      "60000/60000 [==============================] - 29s 480us/step - loss: 0.0294 - acc: 0.0099 - val_loss: 0.0216 - val_acc: 0.0121\n",
      "Epoch 15/50\n",
      "60000/60000 [==============================] - 29s 487us/step - loss: 0.0294 - acc: 0.0102 - val_loss: 0.0220 - val_acc: 0.0126\n",
      "Epoch 16/50\n",
      "60000/60000 [==============================] - 28s 467us/step - loss: 0.0291 - acc: 0.0107 - val_loss: 0.0221 - val_acc: 0.0124\n",
      "Epoch 17/50\n",
      "60000/60000 [==============================] - 29s 490us/step - loss: 0.0292 - acc: 0.0103 - val_loss: 0.0214 - val_acc: 0.0124\n",
      "Epoch 18/50\n",
      "60000/60000 [==============================] - 27s 448us/step - loss: 0.0290 - acc: 0.0108 - val_loss: 0.0215 - val_acc: 0.0133\n",
      "Epoch 19/50\n",
      "60000/60000 [==============================] - 28s 474us/step - loss: 0.0290 - acc: 0.0103 - val_loss: 0.0215 - val_acc: 0.0154\n",
      "Epoch 20/50\n",
      "60000/60000 [==============================] - 28s 473us/step - loss: 0.0288 - acc: 0.0101 - val_loss: 0.0217 - val_acc: 0.0106\n",
      "Epoch 21/50\n",
      "60000/60000 [==============================] - 30s 492us/step - loss: 0.0288 - acc: 0.0099 - val_loss: 0.0215 - val_acc: 0.0140\n",
      "Epoch 22/50\n",
      "60000/60000 [==============================] - 30s 492us/step - loss: 0.0287 - acc: 0.0108 - val_loss: 0.0214 - val_acc: 0.0135\n",
      "Epoch 23/50\n",
      "60000/60000 [==============================] - 28s 469us/step - loss: 0.0289 - acc: 0.0107 - val_loss: 0.0217 - val_acc: 0.0147\n",
      "Epoch 24/50\n",
      "60000/60000 [==============================] - 33s 544us/step - loss: 0.0287 - acc: 0.0105 - val_loss: 0.0212 - val_acc: 0.0126\n",
      "Epoch 25/50\n",
      "60000/60000 [==============================] - 32s 525us/step - loss: 0.0287 - acc: 0.0101 - val_loss: 0.0213 - val_acc: 0.0115\n",
      "Epoch 26/50\n",
      "60000/60000 [==============================] - 31s 511us/step - loss: 0.0286 - acc: 0.0101 - val_loss: 0.0214 - val_acc: 0.0128\n",
      "Epoch 27/50\n",
      "60000/60000 [==============================] - 30s 508us/step - loss: 0.0285 - acc: 0.0103 - val_loss: 0.0215 - val_acc: 0.0146\n",
      "Epoch 28/50\n",
      "60000/60000 [==============================] - 28s 465us/step - loss: 0.0285 - acc: 0.0110 - val_loss: 0.0213 - val_acc: 0.0120\n",
      "Epoch 29/50\n",
      "60000/60000 [==============================] - 29s 486us/step - loss: 0.0284 - acc: 0.0106 - val_loss: 0.0218 - val_acc: 0.0128\n",
      "Epoch 30/50\n",
      "60000/60000 [==============================] - 32s 528us/step - loss: 0.0284 - acc: 0.0104 - val_loss: 0.0211 - val_acc: 0.0119\n",
      "Epoch 31/50\n",
      "60000/60000 [==============================] - 30s 496us/step - loss: 0.0283 - acc: 0.0100 - val_loss: 0.0213 - val_acc: 0.0155\n",
      "Epoch 32/50\n",
      "60000/60000 [==============================] - 29s 484us/step - loss: 0.0283 - acc: 0.0099 - val_loss: 0.0216 - val_acc: 0.0139\n",
      "Epoch 33/50\n",
      "60000/60000 [==============================] - 29s 487us/step - loss: 0.0283 - acc: 0.0105 - val_loss: 0.0208 - val_acc: 0.0130\n",
      "Epoch 34/50\n",
      "60000/60000 [==============================] - 29s 490us/step - loss: 0.0282 - acc: 0.0113 - val_loss: 0.0214 - val_acc: 0.0126\n",
      "Epoch 35/50\n",
      "60000/60000 [==============================] - 32s 529us/step - loss: 0.0282 - acc: 0.0111 - val_loss: 0.0215 - val_acc: 0.0140\n",
      "Epoch 36/50\n",
      "60000/60000 [==============================] - 29s 489us/step - loss: 0.0282 - acc: 0.0112 - val_loss: 0.0213 - val_acc: 0.0120\n",
      "Epoch 37/50\n",
      "60000/60000 [==============================] - 30s 500us/step - loss: 0.0282 - acc: 0.0110 - val_loss: 0.0212 - val_acc: 0.0114\n",
      "Epoch 38/50\n",
      "60000/60000 [==============================] - 29s 490us/step - loss: 0.0282 - acc: 0.0102 - val_loss: 0.0214 - val_acc: 0.0153\n",
      "Epoch 39/50\n",
      "60000/60000 [==============================] - 27s 451us/step - loss: 0.0282 - acc: 0.0110 - val_loss: 0.0214 - val_acc: 0.0112\n",
      "Epoch 40/50\n",
      "60000/60000 [==============================] - 27s 454us/step - loss: 0.0281 - acc: 0.0106 - val_loss: 0.0212 - val_acc: 0.0130\n",
      "Epoch 41/50\n",
      "60000/60000 [==============================] - 30s 508us/step - loss: 0.0281 - acc: 0.0106 - val_loss: 0.0211 - val_acc: 0.0130\n",
      "Epoch 42/50\n",
      "60000/60000 [==============================] - 29s 481us/step - loss: 0.0280 - acc: 0.0106 - val_loss: 0.0215 - val_acc: 0.0117\n",
      "Epoch 43/50\n",
      "60000/60000 [==============================] - 31s 511us/step - loss: 0.0280 - acc: 0.0113 - val_loss: 0.0209 - val_acc: 0.0143\n",
      "Epoch 44/50\n",
      "60000/60000 [==============================] - 31s 509us/step - loss: 0.0280 - acc: 0.0098 - val_loss: 0.0211 - val_acc: 0.0138\n",
      "Epoch 45/50\n",
      "60000/60000 [==============================] - 28s 467us/step - loss: 0.0280 - acc: 0.0101 - val_loss: 0.0212 - val_acc: 0.0120\n",
      "Epoch 46/50\n",
      "60000/60000 [==============================] - 27s 454us/step - loss: 0.0279 - acc: 0.0108 - val_loss: 0.0211 - val_acc: 0.0133\n",
      "Epoch 47/50\n",
      "60000/60000 [==============================] - 30s 493us/step - loss: 0.0279 - acc: 0.0107 - val_loss: 0.0211 - val_acc: 0.0117\n",
      "Epoch 48/50\n",
      "60000/60000 [==============================] - 28s 465us/step - loss: 0.0279 - acc: 0.0106 - val_loss: 0.0212 - val_acc: 0.0127\n",
      "Epoch 49/50\n",
      "60000/60000 [==============================] - 27s 451us/step - loss: 0.0279 - acc: 0.0107 - val_loss: 0.0212 - val_acc: 0.0153\n",
      "Epoch 50/50\n",
      "60000/60000 [==============================] - 27s 454us/step - loss: 0.0278 - acc: 0.0105 - val_loss: 0.0217 - val_acc: 0.0135\n"
     ]
    },
    {
     "ename": "NameError",
     "evalue": "name 'plt' is not defined",
     "output_type": "error",
     "traceback": [
      "\u001b[0;31m--------------------------------------------------------------\u001b[0m",
      "\u001b[0;31mNameError\u001b[0m                    Traceback (most recent call last)",
      "\u001b[0;32m<ipython-input-7-3bcdae77f749>\u001b[0m in \u001b[0;36m<module>\u001b[0;34m\u001b[0m\n\u001b[1;32m      4\u001b[0m                      \u001b[0mbatch_size\u001b[0m\u001b[0;34m=\u001b[0m\u001b[0;36m256\u001b[0m\u001b[0;34m,\u001b[0m\u001b[0;34m\u001b[0m\u001b[0;34m\u001b[0m\u001b[0m\n\u001b[1;32m      5\u001b[0m                      validation_data=(x_test, x_test))\n\u001b[0;32m----> 6\u001b[0;31m     \u001b[0mplt\u001b[0m\u001b[0;34m.\u001b[0m\u001b[0mplot\u001b[0m\u001b[0;34m(\u001b[0m\u001b[0mhistory\u001b[0m\u001b[0;34m.\u001b[0m\u001b[0mhistory\u001b[0m\u001b[0;34m[\u001b[0m\u001b[0;34m'acc'\u001b[0m\u001b[0;34m]\u001b[0m\u001b[0;34m)\u001b[0m\u001b[0;34m\u001b[0m\u001b[0;34m\u001b[0m\u001b[0m\n\u001b[0m\u001b[1;32m      7\u001b[0m     \u001b[0mplt\u001b[0m\u001b[0;34m.\u001b[0m\u001b[0mplot\u001b[0m\u001b[0;34m(\u001b[0m\u001b[0mhistory\u001b[0m\u001b[0;34m.\u001b[0m\u001b[0mhistory\u001b[0m\u001b[0;34m[\u001b[0m\u001b[0;34m'val_acc'\u001b[0m\u001b[0;34m]\u001b[0m\u001b[0;34m)\u001b[0m\u001b[0;34m\u001b[0m\u001b[0;34m\u001b[0m\u001b[0m\n\u001b[1;32m      8\u001b[0m     \u001b[0mplt\u001b[0m\u001b[0;34m.\u001b[0m\u001b[0mtitle\u001b[0m\u001b[0;34m(\u001b[0m\u001b[0;34m'model accuracy'\u001b[0m\u001b[0;34m)\u001b[0m\u001b[0;34m\u001b[0m\u001b[0;34m\u001b[0m\u001b[0m\n",
      "\u001b[0;31mNameError\u001b[0m: name 'plt' is not defined"
     ]
    }
   ],
   "source": [
    "for i in range(5):\n",
    "    history = sae_autoencoder.fit(x_train, x_train,\n",
    "                     epochs=50,\n",
    "                     batch_size=256,\n",
    "                     validation_data=(x_test, x_test))\n",
    "#     plt.plot(history.history['acc'])\n",
    "#     plt.plot(history.history['val_acc'])\n",
    "#     plt.title('model accuracy')\n",
    "#     plt.ylabel('accuracy')\n",
    "#     plt.xlabel('epoch')\n",
    "#     plt.legend(['train', 'test'], loc='upper left')\n",
    "#     plt.show()\n",
    "    sae_autoencoder.save(f'sae_autoencoder_{i}.h5')\n",
    "    "
   ]
  },
  {
   "cell_type": "code",
   "execution_count": 8,
   "metadata": {},
   "outputs": [
    {
     "name": "stdout",
     "output_type": "stream",
     "text": [
      "60000/60000 [==============================] - 7s 113us/step\n"
     ]
    }
   ],
   "source": [
    "metrics = sae_autoencoder.evaluate(x_train, x_train)\n"
   ]
  },
  {
   "cell_type": "code",
   "execution_count": 10,
   "metadata": {},
   "outputs": [
    {
     "name": "stdout",
     "output_type": "stream",
     "text": [
      "loss: 0.023036169837911923\n",
      "acc: 0.012033333333333333\n"
     ]
    }
   ],
   "source": [
    "for i in range(len(sae_autoencoder.metrics_names)):\n",
    "    print(str(sae_autoencoder.metrics_names[i]) + \": \" + str(metrics[i]))"
   ]
  },
  {
   "cell_type": "code",
   "execution_count": 1,
   "metadata": {},
   "outputs": [
    {
     "ename": "NameError",
     "evalue": "name 'sae_autoencoder' is not defined",
     "output_type": "error",
     "traceback": [
      "\u001b[0;31m---------------------------------------------------------------------------\u001b[0m",
      "\u001b[0;31mNameError\u001b[0m                                 Traceback (most recent call last)",
      "\u001b[0;32m<ipython-input-1-e3cac728482c>\u001b[0m in \u001b[0;36m<module>\u001b[0;34m\u001b[0m\n\u001b[0;32m----> 1\u001b[0;31m \u001b[0mpredicted\u001b[0m \u001b[0;34m=\u001b[0m \u001b[0msae_autoencoder\u001b[0m\u001b[0;34m.\u001b[0m\u001b[0mpredict\u001b[0m\u001b[0;34m(\u001b[0m\u001b[0mx_test\u001b[0m\u001b[0;34m)\u001b[0m\u001b[0;34m\u001b[0m\u001b[0;34m\u001b[0m\u001b[0m\n\u001b[0m\u001b[1;32m      2\u001b[0m \u001b[0;32mimport\u001b[0m \u001b[0mmatplotlib\u001b[0m\u001b[0;34m.\u001b[0m\u001b[0mpyplot\u001b[0m \u001b[0;32mas\u001b[0m \u001b[0mplt\u001b[0m\u001b[0;34m\u001b[0m\u001b[0;34m\u001b[0m\u001b[0m\n\u001b[1;32m      3\u001b[0m \u001b[0;31m# sae_autoencoder.predict(x_test[i])\u001b[0m\u001b[0;34m\u001b[0m\u001b[0;34m\u001b[0m\u001b[0;34m\u001b[0m\u001b[0m\n\u001b[1;32m      4\u001b[0m \u001b[0mn\u001b[0m \u001b[0;34m=\u001b[0m \u001b[0;36m10\u001b[0m  \u001b[0;31m# how many digits we will display\u001b[0m\u001b[0;34m\u001b[0m\u001b[0;34m\u001b[0m\u001b[0m\n\u001b[1;32m      5\u001b[0m \u001b[0mplt\u001b[0m\u001b[0;34m.\u001b[0m\u001b[0mfigure\u001b[0m\u001b[0;34m(\u001b[0m\u001b[0mfigsize\u001b[0m\u001b[0;34m=\u001b[0m\u001b[0;34m(\u001b[0m\u001b[0;36m20\u001b[0m\u001b[0;34m,\u001b[0m \u001b[0;36m4\u001b[0m\u001b[0;34m)\u001b[0m\u001b[0;34m)\u001b[0m\u001b[0;34m\u001b[0m\u001b[0;34m\u001b[0m\u001b[0m\n",
      "\u001b[0;31mNameError\u001b[0m: name 'sae_autoencoder' is not defined"
     ]
    }
   ],
   "source": [
    "predicted = sae_autoencoder.predict(x_test)\n",
    "import matplotlib.pyplot as plt\n",
    "# sae_autoencoder.predict(x_test[i])\n",
    "n = 10  # how many digits we will display\n",
    "plt.figure(figsize=(20, 4))\n",
    "for i in range(n):\n",
    "    # display original\n",
    "    ax = plt.subplot(2, n, i + 1)\n",
    "    plt.imshow(x_test[i].reshape(28, 28))\n",
    "    plt.gray()\n",
    "    ax.get_xaxis().set_visible(False)\n",
    "    ax.get_yaxis().set_visible(False)\n",
    "\n",
    "    # display reconstruction\n",
    "    ax = plt.subplot(2, n, i + 1 + n)\n",
    "    print(x_test[i].shape)\n",
    "    plt.imshow(predicted[i].reshape(28,28))\n",
    "    plt.gray()\n",
    "    ax.get_xaxis().set_visible(False)\n",
    "    ax.get_yaxis().set_visible(False)\n",
    "plt.show()"
   ]
  },
  {
   "cell_type": "code",
   "execution_count": null,
   "metadata": {},
   "outputs": [],
   "source": []
  }
 ],
 "metadata": {
  "accelerator": "TPU",
  "colab": {
   "collapsed_sections": [],
   "name": "Copy of DEC_autoencoder_test.ipynb",
   "provenance": [],
   "version": "0.3.2"
  },
  "kernelspec": {
   "display_name": "Python 3",
   "language": "python",
   "name": "python3"
  },
  "language_info": {
   "codemirror_mode": {
    "name": "ipython",
    "version": 3
   },
   "file_extension": ".py",
   "mimetype": "text/x-python",
   "name": "python",
   "nbconvert_exporter": "python",
   "pygments_lexer": "ipython3",
   "version": "3.6.8"
  }
 },
 "nbformat": 4,
 "nbformat_minor": 1
}
